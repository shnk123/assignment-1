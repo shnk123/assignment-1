{
    "cells": [
        {
            "cell_type": "markdown",
            "metadata": {
                "collapsed": true
            },
            "source": "# H1  IBM DATA SCIENCE CAPSTONE\n\n\n\n## H2 Property Development Investment on a Department Stores\n\n\n\n\n#### H4 Background\n\nMalaysia is a trending toursim destination in South East Asia increasing arrival growth to over 4.8% in 2019. To accommodate the trending lifestyle and shopping experience for for types of individuals, it will be a good opportunity to develop a department store in a feasible area in Kuala Lumpur (KL) to help help shoppers spend time in one locarion to purchase any item they may need. \n\nThe current shopping concept in KL is a mall concept. Department Store concept is different from a mall concept and it allows shoppers to purchase quality and branded items at a low cost relatively to products at luxuary malls. Property Developers are intrested to invest in similar trending concepts due to the increase in tourism activities. But the key concern is finding that premium location which attracts shoppers conveniently and a location that will build demand.    \n\n\n#### H4 Description of Problem\n\nIn order to invest in a multi-million dollar construction project, it is essential to select the geographically best location that is availble at a lower cost, and will eventually build demand for shopping, making the investment a success. This capstone will recommend a solution for Property Developers to select an appropriate location to build a Department Store as per their plan. Data Science Methodology tools and techniques will be used to work out the solution for this problem.    \n\n\n#### H4 Data Requirement for the analysis\n\nThe names of the cities in KL territory and their geometric cordinates\nFoursquare venue data in the relavant cities \n\n\nThe cities will be obtained from wikipedia which will help to extract the geographical coordinates required for this analysis. Beautifulsoup and web scraping techniques will be used along with geocoder tool to pull up above data. \nThe Foursquare API will emmensely help to explore and obtain venue data of the respective cities of interest. \nonce all the data is obtained, they will be going through different types of data manipulation in order to model the required solution for the problem in discussion. "
        },
        {
            "cell_type": "code",
            "execution_count": null,
            "metadata": {},
            "outputs": [],
            "source": ""
        },
        {
            "cell_type": "code",
            "execution_count": null,
            "metadata": {},
            "outputs": [],
            "source": ""
        },
        {
            "cell_type": "markdown",
            "metadata": {},
            "source": ""
        },
        {
            "cell_type": "code",
            "execution_count": null,
            "metadata": {},
            "outputs": [],
            "source": ""
        }
    ],
    "metadata": {
        "kernelspec": {
            "display_name": "Python 3.6",
            "language": "python",
            "name": "python3"
        },
        "language_info": {
            "codemirror_mode": {
                "name": "ipython",
                "version": 3
            },
            "file_extension": ".py",
            "mimetype": "text/x-python",
            "name": "python",
            "nbconvert_exporter": "python",
            "pygments_lexer": "ipython3",
            "version": "3.6.9"
        }
    },
    "nbformat": 4,
    "nbformat_minor": 1
}